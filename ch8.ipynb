{
 "cells": [
  {
   "cell_type": "markdown",
   "metadata": {
    "collapsed": false
   },
   "source": [
    "## 5.1 建立信用评估指标体系"
   ]
  },
  {
   "cell_type": "markdown",
   "metadata": {
    "collapsed": false
   },
   "source": [
    "在上一部分中，我们对数据进行了详细的预处理，接下来我们则需要通过建立指标体系来对不同的字段进行分类，这也为下一步的建模工作做准备。参照国际信用评分指标体系的建立方式，我们开始建立信用评估指标体系。指标体系分为个人信息、信用历史、偿债能力、消费能力四大指标类。为了更详细的刻画客户的信用信息，还可以根据已有指标来建立一些新的指标，例如“不良记录”、“平均每笔取现金额“等等。"
   ]
  },
  {
   "cell_type": "markdown",
   "metadata": {
    "collapsed": false
   },
   "source": [
    "![](https://ai-studio-static-online.cdn.bcebos.com/db90029e7677409182f923d961692e8e2f1ae3c7d7ac4529a95c17314cf7e970)\n"
   ]
  },
  {
   "cell_type": "markdown",
   "metadata": {
    "collapsed": false
   },
   "source": [
    "新增的指标包括：\n",
    "\n",
    "构造客户的年消费总额，对该客户的消费能力进行初步判断：\n",
    "\n",
    "                            年消费总额=年消费笔数均值×年消费金额均值\n",
    "\n",
    "构造客户的年取现总额，从侧面评估该客户的总资产：\n",
    "\n",
    "                            年取现总额=年取现笔数均值×年取现金额均值\n",
    "\n",
    "构造客户平均每笔取现金额，评估客户在资产方面是否具有稳定性：\n",
    "\n",
    "                            平均每笔取现金额=总取现金额/总取现笔数\n",
    "\n",
    "构造客户网上平均每笔消费金额，评估客户的网络消费习惯：\n",
    " \n",
    "                            网上平均每笔消费额=网上消费金额/网上消费笔数\n",
    "\n",
    "消费与收入息息相关，构造公共事业平均每笔缴费额，可以更好地衡量客户的消费支出情况：\n",
    "\n",
    "                            公共事业平均每笔缴费额=公共事业缴费金额/公共事业缴费笔数\n",
    "\n",
    "构造客户的不良记录评分，不良记录越多，分数越高，可以更好地评估客户信用风险：\n",
    "\n",
    "                            不良记录=法院失信传唤记录+有无逾期记录+有无犯罪记录+黑名单接口记录不良记录\n",
    "\n"
   ]
  },
  {
   "cell_type": "markdown",
   "metadata": {
    "collapsed": false
   },
   "source": [
    "## 5.2 年消费总额指标计算 "
   ]
  },
  {
   "cell_type": "markdown",
   "metadata": {
    "collapsed": false
   },
   "source": [
    "我们可以通过整合一些已有数据来帮助我们进一步的分析。\n",
    "\n",
    "首先我们可以通过查看客户的年消费总额来对该客户的消费能力进行初步判断，已知客户年消费笔数均值及年消费金额均值，因此：\n",
    "\n",
    "                         年消费总额 = transCnt_mean × transAmt_mean\n"
   ]
  },
  {
   "cell_type": "markdown",
   "metadata": {
    "collapsed": false
   },
   "source": [
    "## 实训任务"
   ]
  },
  {
   "cell_type": "markdown",
   "metadata": {
    "collapsed": false
   },
   "source": [
    "- 请用上述公式计算出客户的年消费总额，将结果赋值给trans_total。\n",
    "- 将计算结果保留到小数点后六位，将结果赋值给trans_total。\n",
    "- 将结果加在data数据集中的最后一列，并将此列命名为trans_total。"
   ]
  },
  {
   "cell_type": "code",
   "execution_count": 1,
   "metadata": {
    "collapsed": false
   },
   "outputs": [
    {
     "name": "stdout",
     "output_type": "stream",
     "text": [
      "0          0.000000\n",
      "1        180.000000\n",
      "2        792.962962\n",
      "3      42012.000000\n",
      "4       1515.600000\n",
      "5         37.500000\n",
      "6       8503.703705\n",
      "7          0.000000\n",
      "8     928364.444143\n",
      "9       2697.777779\n",
      "10       446.913580\n",
      "11         0.000000\n",
      "12       425.061728\n",
      "13     14499.000000\n",
      "14      1238.888889\n",
      "15      4000.000000\n",
      "16       445.000000\n",
      "17        36.111111\n",
      "18        90.000000\n",
      "19         0.000000\n",
      "Name: trans_total, dtype: float64\n"
     ]
    }
   ],
   "source": [
    "import pandas as pd\n",
    "import pandas as pd\n",
    "data = pd.read_table('dataset5.txt',sep='\\t')\n",
    "# 计算客户年消费总额。\n",
    "trans_total = data['transCnt_mean'] * data['transAmt_mean']\n",
    "\n",
    "# 将计算结果保留到小数点后六位。\n",
    "trans_total = round(trans_total, 6)\n",
    "\n",
    "# 将结果加在data数据集中的最后一列，并将此列命名为trans_total。\n",
    "data['trans_total'] = trans_total\n",
    "\n",
    "print(data['trans_total'].head(20))"
   ]
  },
  {
   "cell_type": "markdown",
   "metadata": {
    "collapsed": false
   },
   "source": [
    "## 5.3 年取现总额指标计算"
   ]
  },
  {
   "cell_type": "markdown",
   "metadata": {
    "collapsed": false
   },
   "source": [
    "我们还可以通过判断计算客户的年取现总额来简单评估该客户的总资产，我们已知客户年取现笔数均值及年取现金额均值，因此： \n",
    "\n",
    "                         年取现总额 = cashCnt_mean × cashAmt_mean"
   ]
  },
  {
   "cell_type": "markdown",
   "metadata": {
    "collapsed": false
   },
   "source": [
    "## 实训任务"
   ]
  },
  {
   "cell_type": "markdown",
   "metadata": {
    "collapsed": false
   },
   "source": [
    "- 请用上述公式计算出客户年取现总额。\n",
    "- 将计算结果保留到小数点后六位。\n",
    "- 将结果加在data数据集的最后一列，并将此列命名为total_withdraw。"
   ]
  },
  {
   "cell_type": "code",
   "execution_count": 3,
   "metadata": {
    "collapsed": false
   },
   "outputs": [
    {
     "name": "stdout",
     "output_type": "stream",
     "text": [
      "0          0.000000\n",
      "1          0.000000\n",
      "2          0.000000\n",
      "3     132000.000000\n",
      "4          0.000000\n",
      "5      10500.000000\n",
      "6       5760.000000\n",
      "7          0.000000\n",
      "8       2555.555556\n",
      "9          0.000000\n",
      "10      1500.000000\n",
      "11         0.000000\n",
      "12      1244.444444\n",
      "13      8166.666666\n",
      "14       100.000000\n",
      "15         0.000000\n",
      "16     13701.562500\n",
      "17       900.000000\n",
      "18      1200.000000\n",
      "19         0.000000\n",
      "Name: total_withdraw, dtype: float64\n"
     ]
    }
   ],
   "source": [
    "import pandas as pd\n",
    "import pandas as pd\n",
    "data = pd.read_table('dataset6.txt',sep='\\t')\n",
    "# 年取现总额 = cashCnt_mean × cashAmt_mean，计算客户年取现总额。\n",
    "total_withdraw = data['cashCnt_mean'] * data['cashAmt_mean']\n",
    "# 将计算结果保留到小数点后六位。\n",
    "total_withdraw = round(total_withdraw, 6)\n",
    "# 将结果加在data数据集的最后一列，并将此列命名为total_withdraw。\n",
    "data['total_withdraw'] = total_withdraw\n",
    "\n",
    "print(data['total_withdraw'].head(20))\n"
   ]
  },
  {
   "cell_type": "markdown",
   "metadata": {
    "collapsed": false
   },
   "source": [
    "## 5.4 平均每笔取现金额指标计算"
   ]
  },
  {
   "cell_type": "markdown",
   "metadata": {
    "collapsed": false
   },
   "source": [
    "已知客户的总取现金额和总取现笔数，我们可以构造平均每笔取现金额，推断客户资产方面是否具有稳定性。\n",
    "\n",
    "                      平均每笔取现金额 = cashTotalAmt/cashTotalCnt\n",
    "在这一步中，可能出现总取现金额和总取现笔数为0的情况，直接进行0除0的运算会导致结果变为NaN，直接进行一个数除0的运算会导致结果变为inf(无穷)，我们要考虑对这些异常情况进行处理。"
   ]
  },
  {
   "cell_type": "markdown",
   "metadata": {
    "collapsed": false
   },
   "source": [
    "## 实训任务"
   ]
  },
  {
   "cell_type": "markdown",
   "metadata": {
    "collapsed": false
   },
   "source": [
    "- 请用上述公式计算出客户的平均每笔取现金额。\n",
    "- 对inf和NaN等值用0进行替换。\n",
    "- 将计算结果保留到小数点后六位。\n",
    "- 将结果加在data数据集的最后一列，并将此列命名为avg_per_withdraw。\n"
   ]
  },
  {
   "cell_type": "code",
   "execution_count": 5,
   "metadata": {
    "collapsed": false
   },
   "outputs": [
    {
     "name": "stdout",
     "output_type": "stream",
     "text": [
      "0        0.000000\n",
      "1        0.000000\n",
      "2        0.000000\n",
      "3     3666.666667\n",
      "4        0.000000\n",
      "5      420.000000\n",
      "6      562.500000\n",
      "7        0.000000\n",
      "8      920.000000\n",
      "9        0.000000\n",
      "10     375.000000\n",
      "11       0.000000\n",
      "12     700.000000\n",
      "13    1500.000000\n",
      "14     100.000000\n",
      "15       0.000000\n",
      "16     640.540541\n",
      "17     900.000000\n",
      "18    1200.000000\n",
      "19       0.000000\n",
      "Name: avg_per_withdraw, dtype: float64\n"
     ]
    }
   ],
   "source": [
    "import numpy as np\n",
    "import pandas as pd\n",
    "data = pd.read_table('dataset7.txt',sep='\\t')\n",
    "# 平均每笔取现金额 = cashTotalAmt/cashTotalCnt，计算客户的平均每笔取现金额。\n",
    "avg_per_withdraw = data['cashTotalAmt'] / data['cashTotalCnt']\n",
    "# 将所有的inf和NaN变为0。\n",
    "avg_per_withdraw = np.nan_to_num(avg_per_withdraw, nan=0, posinf=0, neginf=0)\n",
    "# 将计算结果保留到小数点后六位。\n",
    "avg_per_withdraw = np.round(avg_per_withdraw, 6)\n",
    "# 将结果加在data数据集的最后一列，并将此列命名为avg_per_withdraw。\n",
    "data['avg_per_withdraw'] = avg_per_withdraw\n",
    "\n",
    "print(data['avg_per_withdraw'].head(20))"
   ]
  },
  {
   "cell_type": "markdown",
   "metadata": {
    "collapsed": false
   },
   "source": [
    "## 5.5 网上平均每笔消费额指标计算"
   ]
  },
  {
   "cell_type": "markdown",
   "metadata": {
    "collapsed": false
   },
   "source": [
    "为了进一步了解客户的消费习惯，我们还可以计算客户网上平均每笔消费额，然后与总消费金额进行比较。我们已知总的网上消费金额和网上消费笔数，因此只需：\n",
    "\n",
    "                          网上平均每笔消费额 = onlineTransAmt/onlineTransCnt\n",
    "在这一步中，可能出现网上消费金额和网上消费笔数为0的情况，直接进行0除0的运算会导致结果变为NaN，直接进行一个数除0的运算会导致结果变为inf(无穷)，我们要考虑对这些异常情况进行处理。\n"
   ]
  },
  {
   "cell_type": "markdown",
   "metadata": {
    "collapsed": false
   },
   "source": [
    "## 实训任务"
   ]
  },
  {
   "cell_type": "markdown",
   "metadata": {
    "collapsed": false
   },
   "source": [
    "- 请用上述公式计算出客户的网上平均每笔消费额。\n",
    "- 对inf和NaN等值用0进行替换。\n",
    "- 将计算结果保留到小数点后六位。\n",
    "- 将结果加在data数据集的最后一列，并将此列命名为avg_per_online_spend。\n"
   ]
  },
  {
   "cell_type": "code",
   "execution_count": 7,
   "metadata": {
    "collapsed": false
   },
   "outputs": [
    {
     "name": "stdout",
     "output_type": "stream",
     "text": [
      "0    -3855.000000\n",
      "1      233.333333\n",
      "2    -4219.487179\n",
      "3     1808.571429\n",
      "4     -350.666667\n",
      "5      -14.166667\n",
      "6      985.714286\n",
      "7        0.000000\n",
      "8     -757.123288\n",
      "9    -3058.333333\n",
      "10     -30.000000\n",
      "11       0.000000\n",
      "12       0.000000\n",
      "13    8284.444444\n",
      "14       0.000000\n",
      "15    4000.000000\n",
      "16       0.000000\n",
      "17       0.000000\n",
      "18       0.000000\n",
      "19       0.000000\n",
      "Name: avg_per_online_spend, dtype: float64\n"
     ]
    }
   ],
   "source": [
    "import numpy as np\n",
    "import pandas as pd\n",
    "data = pd.read_table('dataset8.txt',sep='\\t')\n",
    "# 网上平均每笔消费额 = onlineTransAmt/onlineTransCnt，请计算客户的网上平均每笔消费额。\n",
    "avg_per_online_spend = data['onlineTransAmt'] / data['onlineTransCnt']\n",
    "\n",
    "# 将所有的inf和NaN变为0。\n",
    "avg_per_online_spend = np.nan_to_num(avg_per_online_spend, nan=0, posinf=0, neginf=0)\n",
    "\n",
    "# 将计算结果保留到小数点后六位。\n",
    "avg_per_online_spend = np.round(avg_per_online_spend, 6)\n",
    "\n",
    "# 将结果加在data数据集的最后一列，并将此列命名为avg_per_online_spend。\n",
    "data['avg_per_online_spend'] = avg_per_online_spend\n",
    "\n",
    "print(data['avg_per_online_spend'].head(20))"
   ]
  },
  {
   "cell_type": "markdown",
   "metadata": {
    "collapsed": false
   },
   "source": [
    "## 5.6 公共事业平均每笔缴费额指标计算"
   ]
  },
  {
   "cell_type": "markdown",
   "metadata": {
    "collapsed": false
   },
   "source": [
    "客户的公共事业缴费金额也与客户的收入及支出息息相关，因此我们可以计算公共事业平均每笔缴费额。已知公共事业缴费金额及公共事业缴费笔数，因此只需：\n",
    "\n",
    "                           公共事业平均每笔缴费额 = publicPayAmt/publicPayCnt\n",
    "在这一步中，可能出现公共事业缴费金额和公共事业缴费笔数为0的情况，直接进行0除0的运算会导致结果变为NaN，直接进行一个数除0的运算会导致结果变为inf(无穷)，我们要考虑对这些异常情况进行处理。\n"
   ]
  },
  {
   "cell_type": "markdown",
   "metadata": {
    "collapsed": false
   },
   "source": [
    "## 实训任务"
   ]
  },
  {
   "cell_type": "markdown",
   "metadata": {
    "collapsed": false
   },
   "source": [
    "- 请用上述公式计算出客户的公共事业平均每笔缴费额。\n",
    "- 对inf和NaN等值用0进行替换。\n",
    "- 将计算结果保留到小数点后六位。\n",
    "- 将结果加在data数据集的最后一列，并将此列命名为avg_per_public_spend。\n"
   ]
  },
  {
   "cell_type": "code",
   "execution_count": 9,
   "metadata": {
    "collapsed": false
   },
   "outputs": [
    {
     "name": "stdout",
     "output_type": "stream",
     "text": [
      "0         0.000000\n",
      "1         0.000000\n",
      "2       385.000000\n",
      "3         0.000000\n",
      "4       521.250000\n",
      "5        85.714286\n",
      "6      1656.666667\n",
      "7         0.000000\n",
      "8     -8944.285714\n",
      "9     11410.000000\n",
      "10      195.000000\n",
      "11        0.000000\n",
      "12        0.000000\n",
      "13        0.000000\n",
      "14        0.000000\n",
      "15        0.000000\n",
      "16        0.000000\n",
      "17        0.000000\n",
      "18      210.000000\n",
      "19        0.000000\n",
      "Name: avg_per_public_spend, dtype: float64\n"
     ]
    }
   ],
   "source": [
    "import numpy as np\n",
    "import pandas as pd\n",
    "data = pd.read_table('dataset9.txt',sep='\\t')\n",
    "# 公共事业平均每笔缴费额 = publicPayAmt/publicPayCnt，请计算客户的公共事业平均每笔缴费额。\n",
    "avg_per_public_spend = data['publicPayAmt'] / data['publicPayCnt']\n",
    "# 将所有的inf和NaN变为0。\n",
    "avg_per_public_spend = np.nan_to_num(avg_per_public_spend, nan=0, posinf=0, neginf=0)\n",
    "# 将计算结果保留到小数点后六位。\n",
    "avg_per_public_spend = np.round(avg_per_public_spend, 6)\n",
    "# 将结果加在data数据集的最后一列，并将此列命名为avg_per_public_spend。\n",
    "data['avg_per_public_spend'] = avg_per_public_spend\n",
    "\n",
    "print(data['avg_per_public_spend'].head(20))"
   ]
  },
  {
   "cell_type": "markdown",
   "metadata": {
    "collapsed": false
   },
   "source": [
    "## 5.7 不良记录指标计算"
   ]
  },
  {
   "cell_type": "markdown",
   "metadata": {
    "collapsed": false
   },
   "source": [
    "在数据集中，法院失信传唤记录、有无逾期记录、有无犯罪记录及黑名单信息查询记录属于不良记录，由于这四个字段均为离散型字段，即：0：没有，1：有，因此我们可以将这四者相加，得数越多的客户即为不良记录分数越高，以此可以更方便的估计客户的信用风险。 \n",
    "\n",
    "                          不良记录 = inCourt + isDue + isCrime + isBlackList\n"
   ]
  },
  {
   "cell_type": "markdown",
   "metadata": {
    "collapsed": false
   },
   "source": [
    "## 实训任务"
   ]
  },
  {
   "cell_type": "markdown",
   "metadata": {
    "collapsed": false
   },
   "source": [
    "- 请用上述公式计算出客户的不良记录分数。\n",
    "- 将计算结果加在data数据集的最后一列，并将此列命名为bad_record。\n"
   ]
  },
  {
   "cell_type": "code",
   "execution_count": 11,
   "metadata": {
    "collapsed": false
   },
   "outputs": [
    {
     "name": "stdout",
     "output_type": "stream",
     "text": [
      "0     0\n",
      "1     0\n",
      "2     0\n",
      "3     0\n",
      "4     0\n",
      "5     0\n",
      "6     0\n",
      "7     1\n",
      "8     0\n",
      "9     0\n",
      "10    0\n",
      "11    0\n",
      "12    1\n",
      "13    0\n",
      "14    0\n",
      "15    0\n",
      "16    0\n",
      "17    0\n",
      "18    0\n",
      "19    0\n",
      "Name: bad_record, dtype: int64\n"
     ]
    }
   ],
   "source": [
    "\n",
    "import pandas as pd\n",
    "data = pd.read_table('dataset10.txt',sep='\\t')\n",
    "#不良记录 = inCourt + isDue + isCrime + isBlackList请计算客户的不良记录分数。\n",
    "bad_record = data['inCourt'] + data['isDue'] + data['isCrime'] + data['isBlackList']\n",
    "#将计算结果加在data数据集的最后一列，并将此列命名为bad_record。\n",
    "data['bad_record'] = bad_record\n",
    "\n",
    "print(data['bad_record'].head(20))"
   ]
  }
 ],
 "metadata": {
  "kernelspec": {
   "display_name": "Python 3",
   "language": "python",
   "name": "python3"
  },
  "language_info": {
   "codemirror_mode": {
    "name": "ipython",
    "version": 3
   },
   "file_extension": ".py",
   "mimetype": "text/x-python",
   "name": "python",
   "nbconvert_exporter": "python",
   "pygments_lexer": "ipython3",
   "version": "3.12.2"
  }
 },
 "nbformat": 4,
 "nbformat_minor": 1
}
