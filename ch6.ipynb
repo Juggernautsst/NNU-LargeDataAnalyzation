{
 "cells": [
  {
   "cell_type": "markdown",
   "metadata": {
    "collapsed": false
   },
   "source": [
    "## 4.27 总消费金额(transTotalAmt)异常值检测"
   ]
  },
  {
   "cell_type": "markdown",
   "metadata": {
    "collapsed": false
   },
   "source": [
    "我们接下来对总消费金额的异常值进行处理：\n",
    "\n",
    "总消费笔数transTotalAmt，总消费金额transTotalAmt是两个相关联的字段，我们重点分析这两个字段上的异常值。\n",
    "\n",
    "查看总消费笔数为0的数据中，总消费笔数和总消费金额这两列。\n"
   ]
  },
  {
   "cell_type": "markdown",
   "metadata": {
    "collapsed": false
   },
   "source": [
    "## 实训任务"
   ]
  },
  {
   "cell_type": "markdown",
   "metadata": {
    "collapsed": false
   },
   "source": [
    "- 请从原始数据中筛选出总消费笔数等于0时，总消费笔数和总消费金额这两列。将结果赋予变量transTotal，类型为DataFrame。"
   ]
  },
  {
   "cell_type": "code",
   "execution_count": 1,
   "metadata": {
    "collapsed": false
   },
   "outputs": [
    {
     "name": "stdout",
     "output_type": "stream",
     "text": [
      "       transTotalAmt  transTotalAmt\n",
      "0                  0              0\n",
      "7                  0              0\n",
      "11                 0              0\n",
      "19                 0              0\n",
      "34                 0              0\n",
      "...              ...            ...\n",
      "47329              0              0\n",
      "47333              0              0\n",
      "47334              0              0\n",
      "47335              0              0\n",
      "47336              0              0\n",
      "\n",
      "[10960 rows x 2 columns]\n"
     ]
    }
   ],
   "source": [
    "import pandas as pd\n",
    "data = pd.read_table('dataset.txt',encoding='gbk',sep=' ')\n",
    "# 从原始数据中筛选出总消费笔数等于0时，总消费笔数，总消费金额这两列\n",
    "transTotal = data[data['transTotalAmt']==0][['transTotalAmt','transTotalAmt']]\n",
    "print(transTotal)"
   ]
  },
  {
   "cell_type": "markdown",
   "metadata": {
    "collapsed": false
   },
   "source": [
    "## 4.28 总消费金额(transTotalAmt) 盒图绘制"
   ]
  },
  {
   "cell_type": "markdown",
   "metadata": {
    "collapsed": false
   },
   "source": [
    "初步对总消费金额的异常值检测后，我们通过绘制盒图的方式，查看总消费金额的数据大致分布。"
   ]
  },
  {
   "cell_type": "markdown",
   "metadata": {
    "collapsed": false
   },
   "source": [
    "## 实训任务"
   ]
  },
  {
   "cell_type": "markdown",
   "metadata": {
    "collapsed": false
   },
   "source": [
    "- 调用Seaborn库中的boxplot()函数绘制盒图，查看总消费金额数据分布。\n",
    "- boxplot()函数的参数orient为\"v\"，表示竖向展示。\n",
    "- 已设图形的尺寸参数figsize为(8,6)。\n",
    "- 图形的其他参数保持默认值。\n"
   ]
  },
  {
   "cell_type": "markdown",
   "metadata": {
    "collapsed": false
   },
   "source": [
    "可以看到总消费金额中有一部分值大于1.0e+07（1000万），远高于其他客户消费金额，我们需要查看一下这些客户的具体数据。"
   ]
  },
  {
   "cell_type": "code",
   "execution_count": 3,
   "metadata": {
    "collapsed": false
   },
   "outputs": [
    {
     "data": {
      "image/png": "[encoded data removed]",
      "text/plain": [
       "<Figure size 800x600 with 1 Axes>"
      ]
     },
     "metadata": {},
     "output_type": "display_data"
    }
   ],
   "source": [
    "import seaborn as sns\n",
    "import matplotlib.pyplot as plt\n",
    "import pandas as pd\n",
    "data = pd.read_table('dataset.txt', encoding='gbk', sep=' ')\n",
    "\n",
    "fig, ax = plt.subplots(figsize=(8, 6))\n",
    "\n",
    "# 绘制盒图，查看总消费金额数据分布\n",
    "sns.boxplot(y='transTotalAmt', data=data, orient='v', ax=ax)\n",
    "\n",
    "plt.title('transTotalAmt distribution')\n",
    "plt.show()"
   ]
  },
  {
   "cell_type": "markdown",
   "metadata": {
    "collapsed": false
   },
   "source": [
    "## 4.29 总消费金额(transTotalAmt) 异常值处理"
   ]
  },
  {
   "cell_type": "markdown",
   "metadata": {
    "collapsed": false
   },
   "source": [
    "我们通过绘制盒图，检测到了总消费金额中有一部分值相对较大，大于1.0e+07，远高于其他客户消费金额。\n",
    "\n",
    "下面我们对这些异常值进行查看与处理：\n"
   ]
  },
  {
   "cell_type": "markdown",
   "metadata": {
    "collapsed": false
   },
   "source": [
    "## 实训任务"
   ]
  },
  {
   "cell_type": "markdown",
   "metadata": {
    "collapsed": false
   },
   "source": [
    "- 请从原始数据中筛选出总消费金额大于1.0e+07（1000万）的数据，赋予变量transTotal，类型为DataFrame。"
   ]
  },
  {
   "cell_type": "markdown",
   "metadata": {
    "collapsed": false
   },
   "source": [
    "数据显示三个客户总消费金额在1.0e+07（1000万）以上，同时总消费笔数为378-678。其他消费情况，如网上消费金额、网上消费笔数、月最大消费金额等也属于正常范围。客户存在这种情况也是有可能的，为此我们选择将其保留。"
   ]
  },
  {
   "cell_type": "code",
   "execution_count": 2,
   "metadata": {
    "collapsed": false
   },
   "outputs": [
    {
     "name": "stdout",
     "output_type": "stream",
     "text": [
      "       transTotalAmt  transTotalCnt  onlineTransAmt  onlineTransCnt  \\\n",
      "6290        25475460            678    2.464593e+07           714.0   \n",
      "15660       10441031            378    9.821252e+06           545.0   \n",
      "33446       23798486            647    2.286678e+07           713.0   \n",
      "\n",
      "       monthCardLargeAmt  \n",
      "6290             4737770  \n",
      "15660            2102248  \n",
      "33446            4447136  \n"
     ]
    }
   ],
   "source": [
    "import pandas as pd\n",
    "data = pd.read_table('dataset.txt',encoding='gbk',sep=' ')\n",
    "# 筛选出总消费金额大于1000万的样本数据\n",
    "transTotal = data[data['transTotalAmt'] > 10000000][['transTotalAmt','transTotalCnt','onlineTransAmt','onlineTransCnt','monthCardLargeAmt']]\n",
    "print(transTotal[['transTotalAmt','transTotalCnt','onlineTransAmt','onlineTransCnt','monthCardLargeAmt']])"
   ]
  },
  {
   "cell_type": "markdown",
   "metadata": {
    "collapsed": false
   },
   "source": [
    "## 4.30 总取现金额(cashTotalAmt)异常值检测"
   ]
  },
  {
   "cell_type": "markdown",
   "metadata": {
    "collapsed": false
   },
   "source": [
    "我们接下来对总取现金额的异常值进行处理：\n",
    "\n",
    "总取现笔数，总取现金额是两个相关联的字段，我们重点分析这两个字段上的异常值。\n",
    "\n",
    "查看总取现笔数为0的数据中，总取现笔数cashTotalCnt，总取现金额cashTotalAmt这两列。\n"
   ]
  },
  {
   "cell_type": "markdown",
   "metadata": {
    "collapsed": false
   },
   "source": [
    "## 实训任务"
   ]
  },
  {
   "cell_type": "markdown",
   "metadata": {
    "collapsed": false
   },
   "source": [
    "请从原始数据中筛选出总取现笔数为0时，总取现笔数，总取现金额这两列。将结果赋予变量cashTotal，类型为DataFrame。"
   ]
  },
  {
   "cell_type": "markdown",
   "metadata": {
    "collapsed": false
   },
   "source": [
    "在总取现笔数为0时，总取现金额也为0，可见总取现金额特征中暂时无类似异常值。"
   ]
  },
  {
   "cell_type": "code",
   "execution_count": 4,
   "metadata": {
    "collapsed": false
   },
   "outputs": [
    {
     "name": "stdout",
     "output_type": "stream",
     "text": [
      "       cashTotalCnt  cashTotalAmt\n",
      "0                 0             0\n",
      "1                 0             0\n",
      "2                 0             0\n",
      "4                 0             0\n",
      "7                 0             0\n",
      "...             ...           ...\n",
      "47310             0             0\n",
      "47313             0             0\n",
      "47320             0             0\n",
      "47329             0             0\n",
      "47333             0             0\n",
      "\n",
      "[18666 rows x 2 columns]\n"
     ]
    }
   ],
   "source": [
    "import pandas as pd\n",
    "data = pd.read_table('dataset.txt',encoding='gbk',sep=' ')\n",
    "# 筛选出总取现笔数为0时，总取现笔数，总取现金额这两列\n",
    "cashTotal = data[data['cashTotalCnt'] == 0][['cashTotalCnt', 'cashTotalAmt']]\n",
    "print(cashTotal)"
   ]
  },
  {
   "cell_type": "markdown",
   "metadata": {
    "collapsed": false
   },
   "source": [
    "## 4.31 总取现金额(cashTotalAmt)盒图绘制"
   ]
  },
  {
   "cell_type": "markdown",
   "metadata": {
    "collapsed": false
   },
   "source": [
    "初步对总取现金额的异常值检测后，我们通过绘制盒图的方式，查看总取现金额的数据大致分布。"
   ]
  },
  {
   "cell_type": "markdown",
   "metadata": {
    "collapsed": false
   },
   "source": [
    "## 实训任务"
   ]
  },
  {
   "cell_type": "markdown",
   "metadata": {
    "collapsed": false
   },
   "source": [
    "- 调用Seaborn库中的boxplot()函数绘制盒图，查看总取现金额数据分布。\n",
    "- boxplot()函数的参数orient为\"v\"，表示竖向展示。\n",
    "- 已设图形的尺寸参数figsize为(8,6)。\n",
    "- 图形的其他参数保持默认值。\n"
   ]
  },
  {
   "cell_type": "markdown",
   "metadata": {
    "collapsed": false
   },
   "source": [
    "可以看到总取现金额中有部分值相对较大，大约大于5.0e+05（50万），我们需要查看一下这些客户的具体数据。"
   ]
  },
  {
   "cell_type": "code",
   "execution_count": 5,
   "metadata": {
    "collapsed": false
   },
   "outputs": [
    {
     "data": {
      "image/png": "[encoded data removed]",
      "text/plain": [
       "<Figure size 800x600 with 1 Axes>"
      ]
     },
     "metadata": {},
     "output_type": "display_data"
    }
   ],
   "source": [
    "import seaborn as sns\n",
    "import matplotlib.pyplot as plt\n",
    "import pandas as pd\n",
    "data = pd.read_table('dataset.txt', encoding='gbk', sep=' ')\n",
    "\n",
    "fig, ax = plt.subplots(figsize=(8, 6))\n",
    "\n",
    "# 绘制盒图，查看总取现金额数据分布\n",
    "sns.boxplot(y='cashTotalAmt', data=data, orient='v', ax=ax)\n",
    "\n",
    "plt.title('cashTotalAmt distribution')\n",
    "plt.show()"
   ]
  },
  {
   "cell_type": "markdown",
   "metadata": {
    "collapsed": false
   },
   "source": [
    "## 4.32 总取现金额(cashTotalAmt) 异常值处理"
   ]
  },
  {
   "cell_type": "markdown",
   "metadata": {
    "collapsed": false
   },
   "source": [
    "我们通过绘制盒图，检测到了总取现金额中有部分值相对较大，大于5.0e+05（50万）。\n",
    "下面我们对这些异常值进行查看与处理："
   ]
  },
  {
   "cell_type": "markdown",
   "metadata": {
    "collapsed": false
   },
   "source": [
    "## 实训任务"
   ]
  },
  {
   "cell_type": "markdown",
   "metadata": {
    "collapsed": false
   },
   "source": [
    "请从原始数据中筛选出总取现金额大于5.0e+05的数据，赋予变量cashTotal，类型为DataFrame。"
   ]
  },
  {
   "cell_type": "markdown",
   "metadata": {
    "collapsed": false
   },
   "source": [
    "数据显示这些客户总取现金额在5.0e+05（50万）以上，总取现笔数也相对为111~188笔不等。按照业务逻辑，每笔金额较大的情况也可能存在，于是这些值我们选择保留。"
   ]
  },
  {
   "cell_type": "code",
   "execution_count": 6,
   "metadata": {
    "collapsed": false
   },
   "outputs": [
    {
     "name": "stdout",
     "output_type": "stream",
     "text": [
      "      CityId  Han   age  card_age  cashAmt_mean  cashAmt_non_null_months  \\\n",
      "1813      其它    0  40.0        39  50991.666670                       12   \n",
      "8186    二线城市    0  43.0        47  55200.000000                       10   \n",
      "15738   二线城市    0  46.0        36  47679.065712                       11   \n",
      "28295     其它    0  42.0        41  47362.635735                       12   \n",
      "\n",
      "       cashCnt_mean  cashCnt_non_null_months  cashTotalAmt  cashTotalCnt  ...  \\\n",
      "1813      15.000000                       12        611900           180  ...   \n",
      "8186      11.100000                       10        552000           111  ...   \n",
      "15738     16.539304                       11        545689           188  ...   \n",
      "28295     14.195065                       12        568352           170  ...   \n",
      "\n",
      "      publicPayCnt sex  threeVerify  transAmt_mean  transAmt_non_null_months  \\\n",
      "1813     50.000000   男           一致   12160.000000                        12   \n",
      "8186      0.000000   女          不一致    2525.833333                        12   \n",
      "15738    20.806294   男          不一致    5061.063858                        12   \n",
      "28295    43.942520   男           一致   12309.526988                        12   \n",
      "\n",
      "       transCnt_mean transCnt_non_null_months  transTotalAmt transTotalCnt  \\\n",
      "1813        8.500000                       12         145980           104   \n",
      "8186        0.333333                       12          30310             4   \n",
      "15738       3.780351                       12          60758            46   \n",
      "28295       7.367633                       12         147773            90   \n",
      "\n",
      "       Default  \n",
      "1813       0.0  \n",
      "8186       0.0  \n",
      "15738      0.0  \n",
      "28295      0.0  \n",
      "\n",
      "[4 rows x 33 columns]\n"
     ]
    }
   ],
   "source": [
    "import pandas as pd\n",
    "data = pd.read_table('dataset.txt',encoding='gbk',sep=' ')\n",
    "# 筛选出总取现金额大于50万的样本数据。\n",
    "cashTotal = data[data['cashTotalAmt'] > 500000]\n",
    "print(cashTotal)"
   ]
  }
 ],
 "metadata": {
  "kernelspec": {
   "display_name": "Python 3",
   "language": "python",
   "name": "python3"
  },
  "language_info": {
   "codemirror_mode": {
    "name": "ipython",
    "version": 3
   },
   "file_extension": ".py",
   "mimetype": "text/x-python",
   "name": "python",
   "nbconvert_exporter": "python",
   "pygments_lexer": "ipython3",
   "version": "3.12.2"
  }
 },
 "nbformat": 4,
 "nbformat_minor": 1
}
